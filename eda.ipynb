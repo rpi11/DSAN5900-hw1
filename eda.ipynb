{
 "cells": [
  {
   "cell_type": "code",
   "execution_count": null,
   "outputs": [],
   "source": [
    "import pandas as pd\n",
    "\n",
    "# Load the CSV file to inspect the data\n",
    "file_path = 'clean_data.csv'\n",
    "data = pd.read_csv(file_path)\n",
    "\n",
    "# Display basic information about the dataset\n",
    "data_info = data.info()\n",
    "\n",
    "# Display the first few rows to understand the structure\n",
    "data_head = data.head()\n",
    "\n",
    "data_info, data_head"
   ],
   "metadata": {
    "collapsed": false,
    "pycharm": {
     "name": "#%%\n",
     "is_executing": true
    }
   }
  },
  {
   "cell_type": "code",
   "execution_count": null,
   "outputs": [],
   "source": [
    "import matplotlib.pyplot as plt\n",
    "import seaborn as sns\n",
    "\n",
    "# Generate summary statistics for numeric columns\n",
    "numeric_summary = data.describe()\n",
    "\n",
    "# Set up the plotting environment\n",
    "plt.figure(figsize=(12, 8))\n",
    "\n",
    "# Plot histograms for key variables\n",
    "plt.subplot(2, 3, 1)\n",
    "sns.histplot(data['GPA'], kde=True)\n",
    "plt.title('GPA Distribution')\n",
    "\n",
    "plt.subplot(2, 3, 2)\n",
    "sns.histplot(data['WorkExp'], kde=True)\n",
    "plt.title('Work Experience Distribution')\n",
    "\n",
    "plt.subplot(2, 3, 3)\n",
    "sns.histplot(data['TestScore'], kde=True)\n",
    "plt.title('Test Score Distribution')\n",
    "\n",
    "plt.subplot(2, 3, 4)\n",
    "sns.histplot(data['WritingScore'], kde=True)\n",
    "plt.title('Writing Score Distribution')\n",
    "\n",
    "plt.subplot(2, 3, 5)\n",
    "sns.histplot(data['VolunteerLevel'], kde=True)\n",
    "plt.title('Volunteer Level Distribution')\n",
    "\n",
    "plt.subplot(2, 3, 6)\n",
    "sns.histplot(data['Gender'], kde=True)\n",
    "plt.title('Gender Distribution')\n",
    "\n",
    "plt.tight_layout()\n",
    "\n",
    "# Display the statistics and plots\n",
    "numeric_summary"
   ],
   "metadata": {
    "collapsed": false,
    "pycharm": {
     "name": "#%%\n"
    }
   }
  },
  {
   "cell_type": "code",
   "execution_count": null,
   "outputs": [],
   "source": [
    "# Calculate the correlation matrix\n",
    "correlation_matrix = data.corr()\n",
    "\n",
    "# Set up the heatmap for the correlation matrix\n",
    "plt.figure(figsize=(8, 6))\n",
    "sns.heatmap(correlation_matrix, annot=True, cmap=\"coolwarm\", fmt=\".2f\", linewidths=0.5)\n",
    "plt.title('Correlation Matrix')\n",
    "\n",
    "plt.show()"
   ],
   "metadata": {
    "collapsed": false,
    "pycharm": {
     "name": "#%%\n"
    }
   }
  },
  {
   "cell_type": "code",
   "execution_count": null,
   "outputs": [],
   "source": [
    "# Plot the distribution of the categorical variables\n",
    "plt.figure(figsize=(10, 6))\n",
    "\n",
    "# Decision distribution\n",
    "plt.subplot(1, 2, 1)\n",
    "sns.countplot(data=data, x='Decision')\n",
    "plt.title('Admission Decision Distribution')\n",
    "\n",
    "# State distribution\n",
    "plt.subplot(1, 2, 2)\n",
    "sns.countplot(data=data, x='State')\n",
    "plt.title('State Distribution')\n",
    "\n",
    "plt.tight_layout()\n",
    "plt.show()"
   ],
   "metadata": {
    "collapsed": false,
    "pycharm": {
     "name": "#%%\n"
    }
   }
  },
  {
   "cell_type": "code",
   "execution_count": null,
   "outputs": [],
   "source": [],
   "metadata": {
    "collapsed": false,
    "pycharm": {
     "name": "#%%\n"
    }
   }
  }
 ],
 "metadata": {
  "kernelspec": {
   "display_name": "Python 3",
   "language": "python",
   "name": "python3"
  },
  "language_info": {
   "codemirror_mode": {
    "name": "ipython",
    "version": 2
   },
   "file_extension": ".py",
   "mimetype": "text/x-python",
   "name": "python",
   "nbconvert_exporter": "python",
   "pygments_lexer": "ipython2",
   "version": "2.7.6"
  }
 },
 "nbformat": 4,
 "nbformat_minor": 0
}